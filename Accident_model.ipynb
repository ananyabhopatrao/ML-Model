{
  "nbformat": 4,
  "nbformat_minor": 0,
  "metadata": {
    "colab": {
      "provenance": [],
      "authorship_tag": "ABX9TyNSCTGUFIKlrMqiANY3nXs7",
      "include_colab_link": true
    },
    "kernelspec": {
      "name": "python3",
      "display_name": "Python 3"
    },
    "language_info": {
      "name": "python"
    }
  },
  "cells": [
    {
      "cell_type": "markdown",
      "metadata": {
        "id": "view-in-github",
        "colab_type": "text"
      },
      "source": [
        "<a href=\"https://colab.research.google.com/github/ananyabhopatrao/ML-Model/blob/main/Accident_model.ipynb\" target=\"_parent\"><img src=\"https://colab.research.google.com/assets/colab-badge.svg\" alt=\"Open In Colab\"/></a>"
      ]
    },
    {
      "cell_type": "markdown",
      "source": [
        "**Load & Explore the Dataset**"
      ],
      "metadata": {
        "id": "HLkSyqPjep7w"
      }
    },
    {
      "cell_type": "code",
      "execution_count": null,
      "metadata": {
        "id": "-EdebsdXWQmw"
      },
      "outputs": [],
      "source": [
        "import pandas as pd"
      ]
    },
    {
      "cell_type": "code",
      "source": [
        "df = pd.read_csv(\"/content/Accident_Information.csv\")"
      ],
      "metadata": {
        "colab": {
          "base_uri": "https://localhost:8080/"
        },
        "id": "z7Nk1lo5W27g",
        "outputId": "131ec13c-a698-49dc-ebc9-596361c96468"
      },
      "execution_count": null,
      "outputs": [
        {
          "output_type": "stream",
          "name": "stderr",
          "text": [
            "<ipython-input-71-9f8cf03bbe97>:1: DtypeWarning: Columns (0) have mixed types. Specify dtype option on import or set low_memory=False.\n",
            "  df = pd.read_csv(\"/content/Accident_Information.csv\")\n"
          ]
        }
      ]
    },
    {
      "cell_type": "code",
      "source": [
        "# Display basic information\n",
        "print(df.head())   # Show first few rows"
      ],
      "metadata": {
        "colab": {
          "base_uri": "https://localhost:8080/"
        },
        "id": "hlpcU9MnXgkz",
        "outputId": "98e9314d-879f-41f5-b089-9f15d942e09c"
      },
      "execution_count": null,
      "outputs": [
        {
          "output_type": "stream",
          "name": "stdout",
          "text": [
            "  Accident_Index 1st_Road_Class  1st_Road_Number 2nd_Road_Class  \\\n",
            "0  200501BS00001              A           3218.0            NaN   \n",
            "1  200501BS00002              B            450.0              C   \n",
            "2  200501BS00003              C              0.0            NaN   \n",
            "3  200501BS00004              A           3220.0            NaN   \n",
            "4  200501BS00005   Unclassified              0.0            NaN   \n",
            "\n",
            "   2nd_Road_Number Accident_Severity Carriageway_Hazards        Date  \\\n",
            "0              0.0           Serious                 NaN  2005-01-04   \n",
            "1              0.0            Slight                 NaN  2005-01-05   \n",
            "2              0.0            Slight                 NaN  2005-01-06   \n",
            "3              0.0            Slight                 NaN  2005-01-07   \n",
            "4              0.0            Slight                 NaN  2005-01-10   \n",
            "\n",
            "  Day_of_Week  Did_Police_Officer_Attend_Scene_of_Accident  ...  \\\n",
            "0     Tuesday                                          1.0  ...   \n",
            "1   Wednesday                                          1.0  ...   \n",
            "2    Thursday                                          1.0  ...   \n",
            "3      Friday                                          1.0  ...   \n",
            "4      Monday                                          1.0  ...   \n",
            "\n",
            "          Police_Force Road_Surface_Conditions           Road_Type  \\\n",
            "0  Metropolitan Police             Wet or damp  Single carriageway   \n",
            "1  Metropolitan Police                     Dry    Dual carriageway   \n",
            "2  Metropolitan Police                     Dry  Single carriageway   \n",
            "3  Metropolitan Police                     Dry  Single carriageway   \n",
            "4  Metropolitan Police             Wet or damp  Single carriageway   \n",
            "\n",
            "  Special_Conditions_at_Site Speed_limit   Time  Urban_or_Rural_Area  \\\n",
            "0                        NaN        30.0  17:42                Urban   \n",
            "1                        NaN        30.0  17:36                Urban   \n",
            "2                        NaN        30.0  00:15                Urban   \n",
            "3                        NaN        30.0  10:35                Urban   \n",
            "4                        NaN        30.0  21:13                Urban   \n",
            "\n",
            "      Weather_Conditions  Year InScotland  \n",
            "0  Raining no high winds  2005         No  \n",
            "1     Fine no high winds  2005         No  \n",
            "2     Fine no high winds  2005         No  \n",
            "3     Fine no high winds  2005         No  \n",
            "4     Fine no high winds  2005         No  \n",
            "\n",
            "[5 rows x 34 columns]\n"
          ]
        }
      ]
    },
    {
      "cell_type": "code",
      "source": [
        "print(df.info())   # Column data types"
      ],
      "metadata": {
        "colab": {
          "base_uri": "https://localhost:8080/"
        },
        "id": "RL7-AN_2XpK4",
        "outputId": "090bfed0-ad1f-4e73-8905-1fa4d325a317"
      },
      "execution_count": null,
      "outputs": [
        {
          "output_type": "stream",
          "name": "stdout",
          "text": [
            "<class 'pandas.core.frame.DataFrame'>\n",
            "RangeIndex: 2047256 entries, 0 to 2047255\n",
            "Data columns (total 34 columns):\n",
            " #   Column                                       Dtype  \n",
            "---  ------                                       -----  \n",
            " 0   Accident_Index                               object \n",
            " 1   1st_Road_Class                               object \n",
            " 2   1st_Road_Number                              float64\n",
            " 3   2nd_Road_Class                               object \n",
            " 4   2nd_Road_Number                              float64\n",
            " 5   Accident_Severity                            object \n",
            " 6   Carriageway_Hazards                          object \n",
            " 7   Date                                         object \n",
            " 8   Day_of_Week                                  object \n",
            " 9   Did_Police_Officer_Attend_Scene_of_Accident  float64\n",
            " 10  Junction_Control                             object \n",
            " 11  Junction_Detail                              object \n",
            " 12  Latitude                                     float64\n",
            " 13  Light_Conditions                             object \n",
            " 14  Local_Authority_(District)                   object \n",
            " 15  Local_Authority_(Highway)                    object \n",
            " 16  Location_Easting_OSGR                        float64\n",
            " 17  Location_Northing_OSGR                       float64\n",
            " 18  Longitude                                    float64\n",
            " 19  LSOA_of_Accident_Location                    object \n",
            " 20  Number_of_Casualties                         int64  \n",
            " 21  Number_of_Vehicles                           int64  \n",
            " 22  Pedestrian_Crossing-Human_Control            float64\n",
            " 23  Pedestrian_Crossing-Physical_Facilities      float64\n",
            " 24  Police_Force                                 object \n",
            " 25  Road_Surface_Conditions                      object \n",
            " 26  Road_Type                                    object \n",
            " 27  Special_Conditions_at_Site                   object \n",
            " 28  Speed_limit                                  float64\n",
            " 29  Time                                         object \n",
            " 30  Urban_or_Rural_Area                          object \n",
            " 31  Weather_Conditions                           object \n",
            " 32  Year                                         int64  \n",
            " 33  InScotland                                   object \n",
            "dtypes: float64(10), int64(3), object(21)\n",
            "memory usage: 531.1+ MB\n",
            "None\n"
          ]
        }
      ]
    },
    {
      "cell_type": "code",
      "source": [
        "print(df.isnull().sum())  # Check for missing values"
      ],
      "metadata": {
        "colab": {
          "base_uri": "https://localhost:8080/"
        },
        "id": "OsBO54LLXsM4",
        "outputId": "694531fa-b804-41bb-a1f2-7f47a0063397"
      },
      "execution_count": null,
      "outputs": [
        {
          "output_type": "stream",
          "name": "stdout",
          "text": [
            "Accident_Index                                       0\n",
            "1st_Road_Class                                       0\n",
            "1st_Road_Number                                      2\n",
            "2nd_Road_Class                                  844272\n",
            "2nd_Road_Number                                  17593\n",
            "Accident_Severity                                    0\n",
            "Carriageway_Hazards                            2007807\n",
            "Date                                                 0\n",
            "Day_of_Week                                          0\n",
            "Did_Police_Officer_Attend_Scene_of_Accident        278\n",
            "Junction_Control                                     0\n",
            "Junction_Detail                                      0\n",
            "Latitude                                           174\n",
            "Light_Conditions                                     0\n",
            "Local_Authority_(District)                           0\n",
            "Local_Authority_(Highway)                            0\n",
            "Location_Easting_OSGR                              164\n",
            "Location_Northing_OSGR                             164\n",
            "Longitude                                          175\n",
            "LSOA_of_Accident_Location                       144953\n",
            "Number_of_Casualties                                 0\n",
            "Number_of_Vehicles                                   0\n",
            "Pedestrian_Crossing-Human_Control                 2920\n",
            "Pedestrian_Crossing-Physical_Facilities           3560\n",
            "Police_Force                                         0\n",
            "Road_Surface_Conditions                              0\n",
            "Road_Type                                            0\n",
            "Special_Conditions_at_Site                     1995137\n",
            "Speed_limit                                         37\n",
            "Time                                               156\n",
            "Urban_or_Rural_Area                                  0\n",
            "Weather_Conditions                                   0\n",
            "Year                                                 0\n",
            "InScotland                                          53\n",
            "dtype: int64\n"
          ]
        }
      ]
    },
    {
      "cell_type": "markdown",
      "source": [
        "**Data Cleaning & Preprocessing**"
      ],
      "metadata": {
        "id": "Q0NiY74xfELW"
      }
    },
    {
      "cell_type": "markdown",
      "source": [
        "1-Handle Missing Values"
      ],
      "metadata": {
        "id": "PqseDgw2fKcS"
      }
    },
    {
      "cell_type": "code",
      "source": [
        "# Drop columns with too many missing values (if necessary)\n",
        "df.dropna(inplace=True)"
      ],
      "metadata": {
        "id": "-4Zl5nIxXujK"
      },
      "execution_count": null,
      "outputs": []
    },
    {
      "cell_type": "code",
      "source": [
        "# Alternatively, fill missing values (if relevant)\n",
        "df.fillna(method='ffill', inplace=True)  # Forward fill missing values"
      ],
      "metadata": {
        "colab": {
          "base_uri": "https://localhost:8080/"
        },
        "id": "5IuhgnzQYFkd",
        "outputId": "846210ca-9642-4cb6-f1d5-667e02b942fa"
      },
      "execution_count": null,
      "outputs": [
        {
          "output_type": "stream",
          "name": "stderr",
          "text": [
            "<ipython-input-51-2ca3c0eef8db>:2: FutureWarning: DataFrame.fillna with 'method' is deprecated and will raise in a future version. Use obj.ffill() or obj.bfill() instead.\n",
            "  df.fillna(method='ffill', inplace=True)  # Forward fill missing values\n"
          ]
        }
      ]
    },
    {
      "cell_type": "code",
      "source": [
        "print(df.isnull().sum())  # Recheck missing values"
      ],
      "metadata": {
        "colab": {
          "base_uri": "https://localhost:8080/"
        },
        "id": "yhAuhsk9YMIy",
        "outputId": "5129a86f-0f0a-4d1a-f30f-2cdb436974fb"
      },
      "execution_count": null,
      "outputs": [
        {
          "output_type": "stream",
          "name": "stdout",
          "text": [
            "Accident_Index                                 0\n",
            "1st_Road_Class                                 0\n",
            "1st_Road_Number                                0\n",
            "2nd_Road_Class                                 0\n",
            "2nd_Road_Number                                0\n",
            "Accident_Severity                              0\n",
            "Carriageway_Hazards                            0\n",
            "Date                                           0\n",
            "Day_of_Week                                    0\n",
            "Did_Police_Officer_Attend_Scene_of_Accident    0\n",
            "Junction_Control                               0\n",
            "Junction_Detail                                0\n",
            "Latitude                                       0\n",
            "Light_Conditions                               0\n",
            "Local_Authority_(District)                     0\n",
            "Local_Authority_(Highway)                      0\n",
            "Location_Easting_OSGR                          0\n",
            "Location_Northing_OSGR                         0\n",
            "Longitude                                      0\n",
            "LSOA_of_Accident_Location                      0\n",
            "Number_of_Casualties                           0\n",
            "Number_of_Vehicles                             0\n",
            "Pedestrian_Crossing-Human_Control              0\n",
            "Pedestrian_Crossing-Physical_Facilities        0\n",
            "Police_Force                                   0\n",
            "Road_Surface_Conditions                        0\n",
            "Road_Type                                      0\n",
            "Special_Conditions_at_Site                     0\n",
            "Speed_limit                                    0\n",
            "Time                                           0\n",
            "Urban_or_Rural_Area                            0\n",
            "Weather_Conditions                             0\n",
            "Year                                           0\n",
            "InScotland                                     0\n",
            "dtype: int64\n"
          ]
        }
      ]
    },
    {
      "cell_type": "markdown",
      "source": [
        "2-Convert Categorical Data into Numerical"
      ],
      "metadata": {
        "id": "YoJf_avrfU2w"
      }
    },
    {
      "cell_type": "code",
      "source": [
        "# Convert categorical features using one-hot encoding\n",
        "df = pd.get_dummies(df, columns=['Weather_Conditions', 'Road_Type', 'Light_Conditions'], drop_first=True)"
      ],
      "metadata": {
        "id": "dzmZ41jIYPgE"
      },
      "execution_count": null,
      "outputs": []
    },
    {
      "cell_type": "markdown",
      "source": [
        "3-Normalize Numerical Features"
      ],
      "metadata": {
        "id": "R3elM9N0flNJ"
      }
    },
    {
      "cell_type": "code",
      "source": [
        "from sklearn.preprocessing import StandardScaler\n",
        "\n",
        "scaler = StandardScaler()\n",
        "df[['Speed_limit', 'Latitude', 'Longitude']] = scaler.fit_transform(df[['Speed_limit', 'Latitude', 'Longitude']])"
      ],
      "metadata": {
        "id": "jEWxh4t7YWKq"
      },
      "execution_count": null,
      "outputs": []
    },
    {
      "cell_type": "markdown",
      "source": [
        "**Split Data for Training & Testing**"
      ],
      "metadata": {
        "id": "WWh7PBbufpVo"
      }
    },
    {
      "cell_type": "code",
      "source": [
        "from sklearn.model_selection import train_test_split\n",
        "\n",
        "# Define features and target variable\n",
        "X = df.drop(columns=['Accident_Severity'])  # Replace with actual target column\n",
        "y = df['Accident_Severity']"
      ],
      "metadata": {
        "id": "b77b0PcOYeHh"
      },
      "execution_count": null,
      "outputs": []
    },
    {
      "cell_type": "code",
      "source": [
        "# Split data into training and testing sets (80-20 split)\n",
        "X_train, X_test, y_train, y_test = train_test_split(X, y, test_size=0.2, random_state=42)"
      ],
      "metadata": {
        "id": "BVbEn1ALYvnY"
      },
      "execution_count": null,
      "outputs": []
    },
    {
      "cell_type": "code",
      "source": [
        "print(f\"Training data: {X_train.shape}, Testing data: {X_test.shape}\")"
      ],
      "metadata": {
        "colab": {
          "base_uri": "https://localhost:8080/"
        },
        "id": "PojDPgheYzMY",
        "outputId": "26177f3b-1398-4958-9ba0-06d22b726e7e"
      },
      "execution_count": null,
      "outputs": [
        {
          "output_type": "stream",
          "name": "stdout",
          "text": [
            "Training data: (1156, 47), Testing data: (289, 47)\n"
          ]
        }
      ]
    },
    {
      "cell_type": "markdown",
      "source": [
        "**Train the Machine Learning Model**"
      ],
      "metadata": {
        "id": "Z7073nCRgDZ1"
      }
    },
    {
      "cell_type": "markdown",
      "source": [
        "***Random Forest Classifier***"
      ],
      "metadata": {
        "id": "VXBGFDzigHM3"
      }
    },
    {
      "cell_type": "code",
      "source": [
        "from sklearn.ensemble import RandomForestClassifier\n",
        "from sklearn.metrics import accuracy_score, classification_report"
      ],
      "metadata": {
        "id": "bMEa9_GZY45R"
      },
      "execution_count": null,
      "outputs": []
    },
    {
      "cell_type": "code",
      "source": [
        "# Initialize and train the model\n",
        "model = RandomForestClassifier(n_estimators=100, random_state=42)"
      ],
      "metadata": {
        "id": "qsgmr9foZLa2"
      },
      "execution_count": null,
      "outputs": []
    },
    {
      "cell_type": "code",
      "source": [
        "print(X_train.dtypes)"
      ],
      "metadata": {
        "colab": {
          "base_uri": "https://localhost:8080/"
        },
        "id": "Q043RXKyZgUK",
        "outputId": "8d26ffff-2dcf-4ffb-9165-a591cf63d55d"
      },
      "execution_count": null,
      "outputs": [
        {
          "output_type": "stream",
          "name": "stdout",
          "text": [
            "Accident_Index                                  object\n",
            "1st_Road_Class                                  object\n",
            "1st_Road_Number                                float64\n",
            "2nd_Road_Class                                  object\n",
            "2nd_Road_Number                                float64\n",
            "Carriageway_Hazards                             object\n",
            "Date                                            object\n",
            "Day_of_Week                                     object\n",
            "Did_Police_Officer_Attend_Scene_of_Accident    float64\n",
            "Junction_Control                                object\n",
            "Junction_Detail                                 object\n",
            "Latitude                                       float64\n",
            "Local_Authority_(District)                      object\n",
            "Local_Authority_(Highway)                       object\n",
            "Location_Easting_OSGR                          float64\n",
            "Location_Northing_OSGR                         float64\n",
            "Longitude                                      float64\n",
            "LSOA_of_Accident_Location                       object\n",
            "Number_of_Casualties                             int64\n",
            "Number_of_Vehicles                               int64\n",
            "Pedestrian_Crossing-Human_Control              float64\n",
            "Pedestrian_Crossing-Physical_Facilities        float64\n",
            "Police_Force                                    object\n",
            "Road_Surface_Conditions                         object\n",
            "Special_Conditions_at_Site                      object\n",
            "Speed_limit                                    float64\n",
            "Time                                            object\n",
            "Urban_or_Rural_Area                             object\n",
            "Year                                             int64\n",
            "InScotland                                      object\n",
            "Weather_Conditions_Fine no high winds             bool\n",
            "Weather_Conditions_Fog or mist                    bool\n",
            "Weather_Conditions_Other                          bool\n",
            "Weather_Conditions_Raining + high winds           bool\n",
            "Weather_Conditions_Raining no high winds          bool\n",
            "Weather_Conditions_Snowing + high winds           bool\n",
            "Weather_Conditions_Snowing no high winds          bool\n",
            "Weather_Conditions_Unknown                        bool\n",
            "Road_Type_One way street                          bool\n",
            "Road_Type_Roundabout                              bool\n",
            "Road_Type_Single carriageway                      bool\n",
            "Road_Type_Slip road                               bool\n",
            "Road_Type_Unknown                                 bool\n",
            "Light_Conditions_Darkness - lights lit            bool\n",
            "Light_Conditions_Darkness - lights unlit          bool\n",
            "Light_Conditions_Darkness - no lighting           bool\n",
            "Light_Conditions_Daylight                         bool\n",
            "dtype: object\n"
          ]
        }
      ]
    },
    {
      "cell_type": "code",
      "source": [
        "X_train = X_train.select_dtypes(include=['number'])\n",
        "X_test = X_test.select_dtypes(include=['number'])"
      ],
      "metadata": {
        "id": "DqXiD-tQajAR"
      },
      "execution_count": null,
      "outputs": []
    },
    {
      "cell_type": "code",
      "source": [
        "X_train = pd.get_dummies(X_train, drop_first=True)\n",
        "X_test = pd.get_dummies(X_test, drop_first=True)"
      ],
      "metadata": {
        "id": "ciCsmA_VarSk"
      },
      "execution_count": null,
      "outputs": []
    },
    {
      "cell_type": "code",
      "source": [
        "model.fit(X_train, y_train)"
      ],
      "metadata": {
        "colab": {
          "base_uri": "https://localhost:8080/",
          "height": 80
        },
        "id": "d5HBzBPqawWx",
        "outputId": "69f04a27-bb06-4c6e-d02d-6380a357c652"
      },
      "execution_count": null,
      "outputs": [
        {
          "output_type": "execute_result",
          "data": {
            "text/plain": [
              "RandomForestClassifier(random_state=42)"
            ],
            "text/html": [
              "<style>#sk-container-id-3 {\n",
              "  /* Definition of color scheme common for light and dark mode */\n",
              "  --sklearn-color-text: #000;\n",
              "  --sklearn-color-text-muted: #666;\n",
              "  --sklearn-color-line: gray;\n",
              "  /* Definition of color scheme for unfitted estimators */\n",
              "  --sklearn-color-unfitted-level-0: #fff5e6;\n",
              "  --sklearn-color-unfitted-level-1: #f6e4d2;\n",
              "  --sklearn-color-unfitted-level-2: #ffe0b3;\n",
              "  --sklearn-color-unfitted-level-3: chocolate;\n",
              "  /* Definition of color scheme for fitted estimators */\n",
              "  --sklearn-color-fitted-level-0: #f0f8ff;\n",
              "  --sklearn-color-fitted-level-1: #d4ebff;\n",
              "  --sklearn-color-fitted-level-2: #b3dbfd;\n",
              "  --sklearn-color-fitted-level-3: cornflowerblue;\n",
              "\n",
              "  /* Specific color for light theme */\n",
              "  --sklearn-color-text-on-default-background: var(--sg-text-color, var(--theme-code-foreground, var(--jp-content-font-color1, black)));\n",
              "  --sklearn-color-background: var(--sg-background-color, var(--theme-background, var(--jp-layout-color0, white)));\n",
              "  --sklearn-color-border-box: var(--sg-text-color, var(--theme-code-foreground, var(--jp-content-font-color1, black)));\n",
              "  --sklearn-color-icon: #696969;\n",
              "\n",
              "  @media (prefers-color-scheme: dark) {\n",
              "    /* Redefinition of color scheme for dark theme */\n",
              "    --sklearn-color-text-on-default-background: var(--sg-text-color, var(--theme-code-foreground, var(--jp-content-font-color1, white)));\n",
              "    --sklearn-color-background: var(--sg-background-color, var(--theme-background, var(--jp-layout-color0, #111)));\n",
              "    --sklearn-color-border-box: var(--sg-text-color, var(--theme-code-foreground, var(--jp-content-font-color1, white)));\n",
              "    --sklearn-color-icon: #878787;\n",
              "  }\n",
              "}\n",
              "\n",
              "#sk-container-id-3 {\n",
              "  color: var(--sklearn-color-text);\n",
              "}\n",
              "\n",
              "#sk-container-id-3 pre {\n",
              "  padding: 0;\n",
              "}\n",
              "\n",
              "#sk-container-id-3 input.sk-hidden--visually {\n",
              "  border: 0;\n",
              "  clip: rect(1px 1px 1px 1px);\n",
              "  clip: rect(1px, 1px, 1px, 1px);\n",
              "  height: 1px;\n",
              "  margin: -1px;\n",
              "  overflow: hidden;\n",
              "  padding: 0;\n",
              "  position: absolute;\n",
              "  width: 1px;\n",
              "}\n",
              "\n",
              "#sk-container-id-3 div.sk-dashed-wrapped {\n",
              "  border: 1px dashed var(--sklearn-color-line);\n",
              "  margin: 0 0.4em 0.5em 0.4em;\n",
              "  box-sizing: border-box;\n",
              "  padding-bottom: 0.4em;\n",
              "  background-color: var(--sklearn-color-background);\n",
              "}\n",
              "\n",
              "#sk-container-id-3 div.sk-container {\n",
              "  /* jupyter's `normalize.less` sets `[hidden] { display: none; }`\n",
              "     but bootstrap.min.css set `[hidden] { display: none !important; }`\n",
              "     so we also need the `!important` here to be able to override the\n",
              "     default hidden behavior on the sphinx rendered scikit-learn.org.\n",
              "     See: https://github.com/scikit-learn/scikit-learn/issues/21755 */\n",
              "  display: inline-block !important;\n",
              "  position: relative;\n",
              "}\n",
              "\n",
              "#sk-container-id-3 div.sk-text-repr-fallback {\n",
              "  display: none;\n",
              "}\n",
              "\n",
              "div.sk-parallel-item,\n",
              "div.sk-serial,\n",
              "div.sk-item {\n",
              "  /* draw centered vertical line to link estimators */\n",
              "  background-image: linear-gradient(var(--sklearn-color-text-on-default-background), var(--sklearn-color-text-on-default-background));\n",
              "  background-size: 2px 100%;\n",
              "  background-repeat: no-repeat;\n",
              "  background-position: center center;\n",
              "}\n",
              "\n",
              "/* Parallel-specific style estimator block */\n",
              "\n",
              "#sk-container-id-3 div.sk-parallel-item::after {\n",
              "  content: \"\";\n",
              "  width: 100%;\n",
              "  border-bottom: 2px solid var(--sklearn-color-text-on-default-background);\n",
              "  flex-grow: 1;\n",
              "}\n",
              "\n",
              "#sk-container-id-3 div.sk-parallel {\n",
              "  display: flex;\n",
              "  align-items: stretch;\n",
              "  justify-content: center;\n",
              "  background-color: var(--sklearn-color-background);\n",
              "  position: relative;\n",
              "}\n",
              "\n",
              "#sk-container-id-3 div.sk-parallel-item {\n",
              "  display: flex;\n",
              "  flex-direction: column;\n",
              "}\n",
              "\n",
              "#sk-container-id-3 div.sk-parallel-item:first-child::after {\n",
              "  align-self: flex-end;\n",
              "  width: 50%;\n",
              "}\n",
              "\n",
              "#sk-container-id-3 div.sk-parallel-item:last-child::after {\n",
              "  align-self: flex-start;\n",
              "  width: 50%;\n",
              "}\n",
              "\n",
              "#sk-container-id-3 div.sk-parallel-item:only-child::after {\n",
              "  width: 0;\n",
              "}\n",
              "\n",
              "/* Serial-specific style estimator block */\n",
              "\n",
              "#sk-container-id-3 div.sk-serial {\n",
              "  display: flex;\n",
              "  flex-direction: column;\n",
              "  align-items: center;\n",
              "  background-color: var(--sklearn-color-background);\n",
              "  padding-right: 1em;\n",
              "  padding-left: 1em;\n",
              "}\n",
              "\n",
              "\n",
              "/* Toggleable style: style used for estimator/Pipeline/ColumnTransformer box that is\n",
              "clickable and can be expanded/collapsed.\n",
              "- Pipeline and ColumnTransformer use this feature and define the default style\n",
              "- Estimators will overwrite some part of the style using the `sk-estimator` class\n",
              "*/\n",
              "\n",
              "/* Pipeline and ColumnTransformer style (default) */\n",
              "\n",
              "#sk-container-id-3 div.sk-toggleable {\n",
              "  /* Default theme specific background. It is overwritten whether we have a\n",
              "  specific estimator or a Pipeline/ColumnTransformer */\n",
              "  background-color: var(--sklearn-color-background);\n",
              "}\n",
              "\n",
              "/* Toggleable label */\n",
              "#sk-container-id-3 label.sk-toggleable__label {\n",
              "  cursor: pointer;\n",
              "  display: flex;\n",
              "  width: 100%;\n",
              "  margin-bottom: 0;\n",
              "  padding: 0.5em;\n",
              "  box-sizing: border-box;\n",
              "  text-align: center;\n",
              "  align-items: start;\n",
              "  justify-content: space-between;\n",
              "  gap: 0.5em;\n",
              "}\n",
              "\n",
              "#sk-container-id-3 label.sk-toggleable__label .caption {\n",
              "  font-size: 0.6rem;\n",
              "  font-weight: lighter;\n",
              "  color: var(--sklearn-color-text-muted);\n",
              "}\n",
              "\n",
              "#sk-container-id-3 label.sk-toggleable__label-arrow:before {\n",
              "  /* Arrow on the left of the label */\n",
              "  content: \"▸\";\n",
              "  float: left;\n",
              "  margin-right: 0.25em;\n",
              "  color: var(--sklearn-color-icon);\n",
              "}\n",
              "\n",
              "#sk-container-id-3 label.sk-toggleable__label-arrow:hover:before {\n",
              "  color: var(--sklearn-color-text);\n",
              "}\n",
              "\n",
              "/* Toggleable content - dropdown */\n",
              "\n",
              "#sk-container-id-3 div.sk-toggleable__content {\n",
              "  max-height: 0;\n",
              "  max-width: 0;\n",
              "  overflow: hidden;\n",
              "  text-align: left;\n",
              "  /* unfitted */\n",
              "  background-color: var(--sklearn-color-unfitted-level-0);\n",
              "}\n",
              "\n",
              "#sk-container-id-3 div.sk-toggleable__content.fitted {\n",
              "  /* fitted */\n",
              "  background-color: var(--sklearn-color-fitted-level-0);\n",
              "}\n",
              "\n",
              "#sk-container-id-3 div.sk-toggleable__content pre {\n",
              "  margin: 0.2em;\n",
              "  border-radius: 0.25em;\n",
              "  color: var(--sklearn-color-text);\n",
              "  /* unfitted */\n",
              "  background-color: var(--sklearn-color-unfitted-level-0);\n",
              "}\n",
              "\n",
              "#sk-container-id-3 div.sk-toggleable__content.fitted pre {\n",
              "  /* unfitted */\n",
              "  background-color: var(--sklearn-color-fitted-level-0);\n",
              "}\n",
              "\n",
              "#sk-container-id-3 input.sk-toggleable__control:checked~div.sk-toggleable__content {\n",
              "  /* Expand drop-down */\n",
              "  max-height: 200px;\n",
              "  max-width: 100%;\n",
              "  overflow: auto;\n",
              "}\n",
              "\n",
              "#sk-container-id-3 input.sk-toggleable__control:checked~label.sk-toggleable__label-arrow:before {\n",
              "  content: \"▾\";\n",
              "}\n",
              "\n",
              "/* Pipeline/ColumnTransformer-specific style */\n",
              "\n",
              "#sk-container-id-3 div.sk-label input.sk-toggleable__control:checked~label.sk-toggleable__label {\n",
              "  color: var(--sklearn-color-text);\n",
              "  background-color: var(--sklearn-color-unfitted-level-2);\n",
              "}\n",
              "\n",
              "#sk-container-id-3 div.sk-label.fitted input.sk-toggleable__control:checked~label.sk-toggleable__label {\n",
              "  background-color: var(--sklearn-color-fitted-level-2);\n",
              "}\n",
              "\n",
              "/* Estimator-specific style */\n",
              "\n",
              "/* Colorize estimator box */\n",
              "#sk-container-id-3 div.sk-estimator input.sk-toggleable__control:checked~label.sk-toggleable__label {\n",
              "  /* unfitted */\n",
              "  background-color: var(--sklearn-color-unfitted-level-2);\n",
              "}\n",
              "\n",
              "#sk-container-id-3 div.sk-estimator.fitted input.sk-toggleable__control:checked~label.sk-toggleable__label {\n",
              "  /* fitted */\n",
              "  background-color: var(--sklearn-color-fitted-level-2);\n",
              "}\n",
              "\n",
              "#sk-container-id-3 div.sk-label label.sk-toggleable__label,\n",
              "#sk-container-id-3 div.sk-label label {\n",
              "  /* The background is the default theme color */\n",
              "  color: var(--sklearn-color-text-on-default-background);\n",
              "}\n",
              "\n",
              "/* On hover, darken the color of the background */\n",
              "#sk-container-id-3 div.sk-label:hover label.sk-toggleable__label {\n",
              "  color: var(--sklearn-color-text);\n",
              "  background-color: var(--sklearn-color-unfitted-level-2);\n",
              "}\n",
              "\n",
              "/* Label box, darken color on hover, fitted */\n",
              "#sk-container-id-3 div.sk-label.fitted:hover label.sk-toggleable__label.fitted {\n",
              "  color: var(--sklearn-color-text);\n",
              "  background-color: var(--sklearn-color-fitted-level-2);\n",
              "}\n",
              "\n",
              "/* Estimator label */\n",
              "\n",
              "#sk-container-id-3 div.sk-label label {\n",
              "  font-family: monospace;\n",
              "  font-weight: bold;\n",
              "  display: inline-block;\n",
              "  line-height: 1.2em;\n",
              "}\n",
              "\n",
              "#sk-container-id-3 div.sk-label-container {\n",
              "  text-align: center;\n",
              "}\n",
              "\n",
              "/* Estimator-specific */\n",
              "#sk-container-id-3 div.sk-estimator {\n",
              "  font-family: monospace;\n",
              "  border: 1px dotted var(--sklearn-color-border-box);\n",
              "  border-radius: 0.25em;\n",
              "  box-sizing: border-box;\n",
              "  margin-bottom: 0.5em;\n",
              "  /* unfitted */\n",
              "  background-color: var(--sklearn-color-unfitted-level-0);\n",
              "}\n",
              "\n",
              "#sk-container-id-3 div.sk-estimator.fitted {\n",
              "  /* fitted */\n",
              "  background-color: var(--sklearn-color-fitted-level-0);\n",
              "}\n",
              "\n",
              "/* on hover */\n",
              "#sk-container-id-3 div.sk-estimator:hover {\n",
              "  /* unfitted */\n",
              "  background-color: var(--sklearn-color-unfitted-level-2);\n",
              "}\n",
              "\n",
              "#sk-container-id-3 div.sk-estimator.fitted:hover {\n",
              "  /* fitted */\n",
              "  background-color: var(--sklearn-color-fitted-level-2);\n",
              "}\n",
              "\n",
              "/* Specification for estimator info (e.g. \"i\" and \"?\") */\n",
              "\n",
              "/* Common style for \"i\" and \"?\" */\n",
              "\n",
              ".sk-estimator-doc-link,\n",
              "a:link.sk-estimator-doc-link,\n",
              "a:visited.sk-estimator-doc-link {\n",
              "  float: right;\n",
              "  font-size: smaller;\n",
              "  line-height: 1em;\n",
              "  font-family: monospace;\n",
              "  background-color: var(--sklearn-color-background);\n",
              "  border-radius: 1em;\n",
              "  height: 1em;\n",
              "  width: 1em;\n",
              "  text-decoration: none !important;\n",
              "  margin-left: 0.5em;\n",
              "  text-align: center;\n",
              "  /* unfitted */\n",
              "  border: var(--sklearn-color-unfitted-level-1) 1pt solid;\n",
              "  color: var(--sklearn-color-unfitted-level-1);\n",
              "}\n",
              "\n",
              ".sk-estimator-doc-link.fitted,\n",
              "a:link.sk-estimator-doc-link.fitted,\n",
              "a:visited.sk-estimator-doc-link.fitted {\n",
              "  /* fitted */\n",
              "  border: var(--sklearn-color-fitted-level-1) 1pt solid;\n",
              "  color: var(--sklearn-color-fitted-level-1);\n",
              "}\n",
              "\n",
              "/* On hover */\n",
              "div.sk-estimator:hover .sk-estimator-doc-link:hover,\n",
              ".sk-estimator-doc-link:hover,\n",
              "div.sk-label-container:hover .sk-estimator-doc-link:hover,\n",
              ".sk-estimator-doc-link:hover {\n",
              "  /* unfitted */\n",
              "  background-color: var(--sklearn-color-unfitted-level-3);\n",
              "  color: var(--sklearn-color-background);\n",
              "  text-decoration: none;\n",
              "}\n",
              "\n",
              "div.sk-estimator.fitted:hover .sk-estimator-doc-link.fitted:hover,\n",
              ".sk-estimator-doc-link.fitted:hover,\n",
              "div.sk-label-container:hover .sk-estimator-doc-link.fitted:hover,\n",
              ".sk-estimator-doc-link.fitted:hover {\n",
              "  /* fitted */\n",
              "  background-color: var(--sklearn-color-fitted-level-3);\n",
              "  color: var(--sklearn-color-background);\n",
              "  text-decoration: none;\n",
              "}\n",
              "\n",
              "/* Span, style for the box shown on hovering the info icon */\n",
              ".sk-estimator-doc-link span {\n",
              "  display: none;\n",
              "  z-index: 9999;\n",
              "  position: relative;\n",
              "  font-weight: normal;\n",
              "  right: .2ex;\n",
              "  padding: .5ex;\n",
              "  margin: .5ex;\n",
              "  width: min-content;\n",
              "  min-width: 20ex;\n",
              "  max-width: 50ex;\n",
              "  color: var(--sklearn-color-text);\n",
              "  box-shadow: 2pt 2pt 4pt #999;\n",
              "  /* unfitted */\n",
              "  background: var(--sklearn-color-unfitted-level-0);\n",
              "  border: .5pt solid var(--sklearn-color-unfitted-level-3);\n",
              "}\n",
              "\n",
              ".sk-estimator-doc-link.fitted span {\n",
              "  /* fitted */\n",
              "  background: var(--sklearn-color-fitted-level-0);\n",
              "  border: var(--sklearn-color-fitted-level-3);\n",
              "}\n",
              "\n",
              ".sk-estimator-doc-link:hover span {\n",
              "  display: block;\n",
              "}\n",
              "\n",
              "/* \"?\"-specific style due to the `<a>` HTML tag */\n",
              "\n",
              "#sk-container-id-3 a.estimator_doc_link {\n",
              "  float: right;\n",
              "  font-size: 1rem;\n",
              "  line-height: 1em;\n",
              "  font-family: monospace;\n",
              "  background-color: var(--sklearn-color-background);\n",
              "  border-radius: 1rem;\n",
              "  height: 1rem;\n",
              "  width: 1rem;\n",
              "  text-decoration: none;\n",
              "  /* unfitted */\n",
              "  color: var(--sklearn-color-unfitted-level-1);\n",
              "  border: var(--sklearn-color-unfitted-level-1) 1pt solid;\n",
              "}\n",
              "\n",
              "#sk-container-id-3 a.estimator_doc_link.fitted {\n",
              "  /* fitted */\n",
              "  border: var(--sklearn-color-fitted-level-1) 1pt solid;\n",
              "  color: var(--sklearn-color-fitted-level-1);\n",
              "}\n",
              "\n",
              "/* On hover */\n",
              "#sk-container-id-3 a.estimator_doc_link:hover {\n",
              "  /* unfitted */\n",
              "  background-color: var(--sklearn-color-unfitted-level-3);\n",
              "  color: var(--sklearn-color-background);\n",
              "  text-decoration: none;\n",
              "}\n",
              "\n",
              "#sk-container-id-3 a.estimator_doc_link.fitted:hover {\n",
              "  /* fitted */\n",
              "  background-color: var(--sklearn-color-fitted-level-3);\n",
              "}\n",
              "</style><div id=\"sk-container-id-3\" class=\"sk-top-container\"><div class=\"sk-text-repr-fallback\"><pre>RandomForestClassifier(random_state=42)</pre><b>In a Jupyter environment, please rerun this cell to show the HTML representation or trust the notebook. <br />On GitHub, the HTML representation is unable to render, please try loading this page with nbviewer.org.</b></div><div class=\"sk-container\" hidden><div class=\"sk-item\"><div class=\"sk-estimator fitted sk-toggleable\"><input class=\"sk-toggleable__control sk-hidden--visually\" id=\"sk-estimator-id-3\" type=\"checkbox\" checked><label for=\"sk-estimator-id-3\" class=\"sk-toggleable__label fitted sk-toggleable__label-arrow\"><div><div>RandomForestClassifier</div></div><div><a class=\"sk-estimator-doc-link fitted\" rel=\"noreferrer\" target=\"_blank\" href=\"https://scikit-learn.org/1.6/modules/generated/sklearn.ensemble.RandomForestClassifier.html\">?<span>Documentation for RandomForestClassifier</span></a><span class=\"sk-estimator-doc-link fitted\">i<span>Fitted</span></span></div></label><div class=\"sk-toggleable__content fitted\"><pre>RandomForestClassifier(random_state=42)</pre></div> </div></div></div></div>"
            ]
          },
          "metadata": {},
          "execution_count": 63
        }
      ]
    },
    {
      "cell_type": "code",
      "source": [
        "# Make predictions\n",
        "y_pred = model.predict(X_test)"
      ],
      "metadata": {
        "id": "OMRvjGrRbKUW"
      },
      "execution_count": null,
      "outputs": []
    },
    {
      "cell_type": "code",
      "source": [
        "# Evaluate model performance\n",
        "print(\"Accuracy:\", accuracy_score(y_test, y_pred))\n",
        "print(\"Classification Report:\\n\", classification_report(y_test, y_pred))"
      ],
      "metadata": {
        "colab": {
          "base_uri": "https://localhost:8080/"
        },
        "id": "Qunkq6X7bOdz",
        "outputId": "01bff6b5-fcf0-490a-ea1e-67682168c776"
      },
      "execution_count": null,
      "outputs": [
        {
          "output_type": "stream",
          "name": "stdout",
          "text": [
            "Accuracy: 0.8512110726643599\n",
            "Classification Report:\n",
            "               precision    recall  f1-score   support\n",
            "\n",
            "       Fatal       0.00      0.00      0.00         6\n",
            "     Serious       0.25      0.03      0.05        35\n",
            "      Slight       0.86      0.99      0.92       248\n",
            "\n",
            "    accuracy                           0.85       289\n",
            "   macro avg       0.37      0.34      0.32       289\n",
            "weighted avg       0.77      0.85      0.80       289\n",
            "\n"
          ]
        },
        {
          "output_type": "stream",
          "name": "stderr",
          "text": [
            "/usr/local/lib/python3.11/dist-packages/sklearn/metrics/_classification.py:1565: UndefinedMetricWarning: Precision is ill-defined and being set to 0.0 in labels with no predicted samples. Use `zero_division` parameter to control this behavior.\n",
            "  _warn_prf(average, modifier, f\"{metric.capitalize()} is\", len(result))\n",
            "/usr/local/lib/python3.11/dist-packages/sklearn/metrics/_classification.py:1565: UndefinedMetricWarning: Precision is ill-defined and being set to 0.0 in labels with no predicted samples. Use `zero_division` parameter to control this behavior.\n",
            "  _warn_prf(average, modifier, f\"{metric.capitalize()} is\", len(result))\n",
            "/usr/local/lib/python3.11/dist-packages/sklearn/metrics/_classification.py:1565: UndefinedMetricWarning: Precision is ill-defined and being set to 0.0 in labels with no predicted samples. Use `zero_division` parameter to control this behavior.\n",
            "  _warn_prf(average, modifier, f\"{metric.capitalize()} is\", len(result))\n"
          ]
        }
      ]
    },
    {
      "cell_type": "markdown",
      "source": [
        "**Optimize the Model**"
      ],
      "metadata": {
        "id": "4HhELJsAglUD"
      }
    },
    {
      "cell_type": "code",
      "source": [
        "from sklearn.model_selection import GridSearchCV\n",
        "\n",
        "param_grid = {\n",
        "    'n_estimators': [50, 100, 200],\n",
        "    'max_depth': [10, 20, 30],\n",
        "    'min_samples_split': [2, 5, 10]\n",
        "}\n",
        "\n",
        "grid_search = GridSearchCV(RandomForestClassifier(), param_grid, cv=3, scoring='accuracy')\n",
        "grid_search.fit(X_train, y_train)\n",
        "\n",
        "print(\"Best Parameters:\", grid_search.best_params_)"
      ],
      "metadata": {
        "colab": {
          "base_uri": "https://localhost:8080/"
        },
        "id": "UOtZwlelbWkT",
        "outputId": "b9500d96-f34f-44f9-832c-cae28bd955e4"
      },
      "execution_count": null,
      "outputs": [
        {
          "output_type": "stream",
          "name": "stdout",
          "text": [
            "Best Parameters: {'max_depth': 10, 'min_samples_split': 5, 'n_estimators': 50}\n"
          ]
        }
      ]
    },
    {
      "cell_type": "markdown",
      "source": [
        "**Visualizations**"
      ],
      "metadata": {
        "id": "L3F2ZdNWhG5C"
      }
    },
    {
      "cell_type": "markdown",
      "source": [
        "*Accident Severity Distribution*"
      ],
      "metadata": {
        "id": "myll0OX2hLOd"
      }
    },
    {
      "cell_type": "code",
      "source": [
        "import seaborn as sns\n",
        "import matplotlib.pyplot as plt\n",
        "\n",
        "sns.countplot(x=y_train)  # Assuming 'y_train' contains severity labels\n",
        "plt.title(\"Accident Severity Distribution\")\n",
        "plt.xlabel(\"Severity Level\")\n",
        "plt.ylabel(\"Count\")\n",
        "plt.show()"
      ],
      "metadata": {
        "colab": {
          "base_uri": "https://localhost:8080/",
          "height": 472
        },
        "id": "mLrgTduIc0AN",
        "outputId": "2a2be07a-cb4e-48bc-dcd3-d8fced00f55a"
      },
      "execution_count": null,
      "outputs": [
        {
          "output_type": "display_data",
          "data": {
            "text/plain": [
              "<Figure size 640x480 with 1 Axes>"
            ],
            "image/png": "[encoded data removed]"
          },
          "metadata": {}
        }
      ]
    },
    {
      "cell_type": "markdown",
      "source": [
        "*Time vs. Accident Count*"
      ],
      "metadata": {
        "id": "3j2kyAUJhUIv"
      }
    },
    {
      "cell_type": "code",
      "source": [
        "df['Hour'] = pd.to_datetime(df['Time']).dt.hour\n",
        "sns.histplot(df['Hour'], bins=24, kde=True)\n",
        "plt.title(\"Accidents per Hour\")\n",
        "plt.xlabel(\"Hour of the Day\")\n",
        "plt.ylabel(\"Number of Accidents\")\n",
        "plt.show()"
      ],
      "metadata": {
        "colab": {
          "base_uri": "https://localhost:8080/",
          "height": 528
        },
        "id": "IWNAspXidBij",
        "outputId": "dbf5f638-b577-4c1f-a0b8-9fe02ae32f9d"
      },
      "execution_count": null,
      "outputs": [
        {
          "output_type": "stream",
          "name": "stderr",
          "text": [
            "<ipython-input-68-0dcb71afc9fc>:1: UserWarning: Could not infer format, so each element will be parsed individually, falling back to `dateutil`. To ensure parsing is consistent and as-expected, please specify a format.\n",
            "  df['Hour'] = pd.to_datetime(df['Time']).dt.hour\n"
          ]
        },
        {
          "output_type": "display_data",
          "data": {
            "text/plain": [
              "<Figure size 640x480 with 1 Axes>"
            ],
            "image/png": "[encoded data removed]"
          },
          "metadata": {}
        }
      ]
    },
    {
      "cell_type": "markdown",
      "source": [
        "**Make Predictions on New Data**"
      ],
      "metadata": {
        "id": "5AiWnjPohve1"
      }
    },
    {
      "cell_type": "code",
      "source": [
        "new_data = [[30, 52.1, -0.1, 1, 0, 1, 2, 0, 3, 1, -1, 4, 0]]\n",
        "prediction = model.predict(new_data)\n",
        "print(\"Predicted Accident Severity:\", prediction)"
      ],
      "metadata": {
        "colab": {
          "base_uri": "https://localhost:8080/"
        },
        "id": "7H93fb9HbenU",
        "outputId": "decd93f1-0644-4e7c-8743-0f5bab95be0c"
      },
      "execution_count": null,
      "outputs": [
        {
          "output_type": "stream",
          "name": "stdout",
          "text": [
            "Predicted Accident Severity: ['Slight']\n"
          ]
        },
        {
          "output_type": "stream",
          "name": "stderr",
          "text": [
            "/usr/local/lib/python3.11/dist-packages/sklearn/utils/validation.py:2739: UserWarning: X does not have valid feature names, but RandomForestClassifier was fitted with feature names\n",
            "  warnings.warn(\n"
          ]
        }
      ]
    },
    {
      "cell_type": "code",
      "source": [
        "import pandas as pd\n",
        "import seaborn as sns\n",
        "\n",
        "feature_importances = model.feature_importances_\n",
        "features = X_train.columns\n",
        "\n",
        "importance_df = pd.DataFrame({'Feature': features, 'Importance': feature_importances})\n",
        "importance_df = importance_df.sort_values(by='Importance', ascending=False)\n",
        "\n",
        "plt.figure(figsize=(10, 5))\n",
        "sns.barplot(x=importance_df['Importance'], y=importance_df['Feature'])\n",
        "plt.title('Feature Importance')\n",
        "plt.show()"
      ],
      "metadata": {
        "colab": {
          "base_uri": "https://localhost:8080/",
          "height": 477
        },
        "id": "KmDMpw6leT4m",
        "outputId": "c2466912-cc25-417c-bb09-9dd26c8a9d11"
      },
      "execution_count": null,
      "outputs": [
        {
          "output_type": "display_data",
          "data": {
            "text/plain": [
              "<Figure size 1000x500 with 1 Axes>"
            ],
            "image/png": "[encoded data removed]"
          },
          "metadata": {}
        }
      ]
    }
  ]
}